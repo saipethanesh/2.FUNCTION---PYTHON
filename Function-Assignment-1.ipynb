{
 "cells": [
  {
   "cell_type": "code",
   "execution_count": 1,
   "id": "e9fc8d2f-6400-42a7-a3b7-128ce3d64ac6",
   "metadata": {},
   "outputs": [
    {
     "name": "stdout",
     "output_type": "stream",
     "text": [
      "Items in the list:\n",
      "apple\n",
      "banana\n",
      "orange\n",
      "grape\n"
     ]
    }
   ],
   "source": [
    "class ListManager:\n",
    "    def __init__(self, items):\n",
    "        self.items = items\n",
    "    \n",
    "    def list_items(self):\n",
    "        print(\"Items in the list:\")\n",
    "        for item in self.items:\n",
    "            print(item)\n",
    "my_list_manager = ListManager(['apple', 'banana', 'orange', 'grape'])\n",
    "my_list_manager.list_items()\n"
   ]
  },
  {
   "cell_type": "code",
   "execution_count": 7,
   "id": "cd1acf2f-be3a-40fa-a348-94e871020f68",
   "metadata": {},
   "outputs": [
    {
     "name": "stdout",
     "output_type": "stream",
     "text": [
      "Sub-fields in AI are:\n",
      "Machine Learning\n",
      "Neural Networks\n",
      "Vision\n",
      "Robotics\n",
      "Speech Processing\n",
      "Natural Language Processing\n"
     ]
    }
   ],
   "source": [
    "class SubfieldsInAI:\n",
    "    @staticmethod\n",
    "    def Subfields():\n",
    "        print(\"Sub-fields in AI are:\")\n",
    "        print(\"Machine Learning\")\n",
    "        print(\"Neural Networks\")\n",
    "        print(\"Vision\")\n",
    "        print(\"Robotics\")\n",
    "        print(\"Speech Processing\")\n",
    "        print(\"Natural Language Processing\")\n",
    "\n",
    "# Calling the method\n",
    "SubfieldsInAI.Subfields()\n"
   ]
  },
  {
   "cell_type": "code",
   "execution_count": 8,
   "id": "89fb6fe2-db10-4461-83ca-9e05cf96936d",
   "metadata": {},
   "outputs": [
    {
     "name": "stdin",
     "output_type": "stream",
     "text": [
      "Enter a number:  2\n"
     ]
    },
    {
     "name": "stdout",
     "output_type": "stream",
     "text": [
      "The number 2 is Even\n"
     ]
    }
   ],
   "source": [
    "def check_odd_even(number):\n",
    "    if number % 2 == 0:\n",
    "        return \"Even\"\n",
    "    else:\n",
    "        return \"Odd\"\n",
    "\n",
    "# Test the function\n",
    "num = int(input(\"Enter a number: \"))\n",
    "result = check_odd_even(num)\n",
    "print(f\"The number {num} is {result}\")\n"
   ]
  },
  {
   "cell_type": "code",
   "execution_count": 9,
   "id": "f9944e6c-269a-4dc6-99dd-d0d5b0be52a3",
   "metadata": {},
   "outputs": [
    {
     "name": "stdin",
     "output_type": "stream",
     "text": [
      "Enter a number:  52452\n"
     ]
    },
    {
     "name": "stdout",
     "output_type": "stream",
     "text": [
      "52452 is Even number\n"
     ]
    }
   ],
   "source": [
    "def OddEven():\n",
    "    number = int(input(\"Enter a number: \"))\n",
    "    if number % 2 == 0:\n",
    "        print(number, \"is Even number\")\n",
    "    else:\n",
    "        print(number, \"is Odd number\")\n",
    "\n",
    "\n",
    "OddEven()\n"
   ]
  },
  {
   "cell_type": "code",
   "execution_count": 11,
   "id": "754b5cf2-b166-4e27-83fb-4c710c3e0d54",
   "metadata": {},
   "outputs": [
    {
     "name": "stdout",
     "output_type": "stream",
     "text": [
      "Eligible for marriage\n",
      "Eligible for marriage\n"
     ]
    }
   ],
   "source": [
    "def check_eligibility(gender, age):\n",
    "    if gender == \"male\" and age >= 21:\n",
    "        return \"Eligible for marriage\"\n",
    "    elif gender == \"female\" and age >= 18:\n",
    "        return \"Eligible for marriage\"\n",
    "    else:\n",
    "        return \"Not eligible for marriage\"\n",
    "\n",
    "\n",
    "print(check_eligibility(\"male\", 25))   \n",
    "print(check_eligibility(\"female\", 20)) \n"
   ]
  },
  {
   "cell_type": "code",
   "execution_count": 14,
   "id": "7f6801f4-9656-467f-878b-34706952b8d6",
   "metadata": {},
   "outputs": [
    {
     "name": "stdin",
     "output_type": "stream",
     "text": [
      "Your Gender: MALE\n",
      "Your Age: 20\n"
     ]
    },
    {
     "name": "stdout",
     "output_type": "stream",
     "text": [
      "NOT ELIGIBLE\n"
     ]
    }
   ],
   "source": [
    "class ElegiblityForMarriage:\n",
    "    @staticmethod\n",
    "    def Elegible():\n",
    "        gender = input(\"Your Gender:\").lower()\n",
    "        age = int(input(\"Your Age:\"))\n",
    "\n",
    "        if gender == \"male\" and age >= 21:\n",
    "            print(\"ELIGIBLE\")\n",
    "        elif gender == \"female\" and age >= 18:\n",
    "            print(\"ELIGIBLE\")\n",
    "        else:\n",
    "            print(\"NOT ELIGIBLE\")\n",
    "\n",
    "# Calling the function\n",
    "ElegiblityForMarriage.Elegible()\n"
   ]
  },
  {
   "cell_type": "code",
   "execution_count": 17,
   "id": "1f195217-39b2-41df-b669-a2f46deae5dc",
   "metadata": {},
   "outputs": [
    {
     "name": "stdin",
     "output_type": "stream",
     "text": [
      "Enter the total marks obtained in 10th:  450\n",
      "Enter the total marks for 10th:  500\n"
     ]
    },
    {
     "name": "stdout",
     "output_type": "stream",
     "text": [
      "Your percentage in 10th is: 90.0\n"
     ]
    }
   ],
   "source": [
    "total_marks_obtained = float(input(\"Enter the total marks obtained in 10th: \"))\n",
    "total_marks = float(input(\"Enter the total marks for 10th: \"))\n",
    "\n",
    "\n",
    "percentage = (total_marks_obtained / total_marks) * 100\n",
    "\n",
    "\n",
    "print(\"Your percentage in 10th is:\", percentage)\n"
   ]
  },
  {
   "cell_type": "code",
   "execution_count": 18,
   "id": "3cd52ff1-5057-4427-9647-54a14b5fc51e",
   "metadata": {},
   "outputs": [
    {
     "name": "stdout",
     "output_type": "stream",
     "text": [
      "Subject1 = 98\n",
      "Subject2 = 87\n",
      "Subject3 = 95\n",
      "Subject4 = 95\n",
      "Subject5 = 93\n",
      "Total : 468\n",
      "Percentage : 93.60000000000001\n"
     ]
    }
   ],
   "source": [
    "class FindPercent:\n",
    "    def percentage(self):\n",
    "        Subject1 = 98\n",
    "        Subject2 = 87\n",
    "        Subject3 = 95\n",
    "        Subject4 = 95\n",
    "        Subject5 = 93\n",
    "\n",
    "        Total = Subject1 + Subject2 + Subject3 + Subject4 + Subject5\n",
    "        Percentage = (Total / 500) * 100\n",
    "\n",
    "        print(\"Subject1 =\", Subject1)\n",
    "        print(\"Subject2 =\", Subject2)\n",
    "        print(\"Subject3 =\", Subject3)\n",
    "        print(\"Subject4 =\", Subject4)\n",
    "        print(\"Subject5 =\", Subject5)\n",
    "        print(\"Total :\", Total)\n",
    "        print(\"Percentage :\", Percentage)\n",
    "\n",
    "\n",
    "percentage_calculator = FindPercent()\n",
    "percentage_calculator.percentage()\n"
   ]
  },
  {
   "cell_type": "code",
   "execution_count": 19,
   "id": "b7be5355-c6a7-4fa5-8c57-c53a08fb3413",
   "metadata": {},
   "outputs": [
    {
     "name": "stdin",
     "output_type": "stream",
     "text": [
      "Enter the length of side 1:  50\n",
      "Enter the length of side 2:  50\n",
      "Enter the length of side 3:  50\n"
     ]
    },
    {
     "name": "stdout",
     "output_type": "stream",
     "text": [
      "Area of the triangle: 1082.5317547305483\n",
      "Perimeter of the triangle: 150.0\n"
     ]
    }
   ],
   "source": [
    "import math\n",
    "\n",
    "class Triangle:\n",
    "    def __init__(self, side1, side2, side3):\n",
    "        self.side1 = side1\n",
    "        self.side2 = side2\n",
    "        self.side3 = side3\n",
    "\n",
    "    def calculate_area(self):\n",
    "        # Using Heron's formula to calculate the area of the triangle\n",
    "        s = (self.side1 + self.side2 + self.side3) / 2\n",
    "        area = math.sqrt(s * (s - self.side1) * (s - self.side2) * (s - self.side3))\n",
    "        return area\n",
    "\n",
    "    def calculate_perimeter(self):\n",
    "        perimeter = self.side1 + self.side2 + self.side3\n",
    "        return perimeter\n",
    "\n",
    "\n",
    "side1 = float(input(\"Enter the length of side 1: \"))\n",
    "side2 = float(input(\"Enter the length of side 2: \"))\n",
    "side3 = float(input(\"Enter the length of side 3: \"))\n",
    "\n",
    "triangle = Triangle(side1, side2, side3)\n",
    "\n",
    "print(\"Area of the triangle:\", triangle.calculate_area())\n",
    "print(\"Perimeter of the triangle:\", triangle.calculate_perimeter())\n"
   ]
  },
  {
   "cell_type": "code",
   "execution_count": 20,
   "id": "2ac6f01c-2049-4ee0-99bc-f7e1fd92f060",
   "metadata": {},
   "outputs": [
    {
     "name": "stdout",
     "output_type": "stream",
     "text": [
      "Height:"
     ]
    },
    {
     "name": "stdin",
     "output_type": "stream",
     "text": [
      " 32\n"
     ]
    },
    {
     "name": "stdout",
     "output_type": "stream",
     "text": [
      "Breadth:"
     ]
    },
    {
     "name": "stdin",
     "output_type": "stream",
     "text": [
      " 34\n"
     ]
    },
    {
     "name": "stdout",
     "output_type": "stream",
     "text": [
      "Area formula: (Height*Breadth)/2\n",
      "Area of Triangle: 544.0\n",
      "Height1:"
     ]
    },
    {
     "name": "stdin",
     "output_type": "stream",
     "text": [
      " 2\n"
     ]
    },
    {
     "name": "stdout",
     "output_type": "stream",
     "text": [
      "Height2:"
     ]
    },
    {
     "name": "stdin",
     "output_type": "stream",
     "text": [
      " 4\n"
     ]
    },
    {
     "name": "stdout",
     "output_type": "stream",
     "text": [
      "Breadth:"
     ]
    },
    {
     "name": "stdin",
     "output_type": "stream",
     "text": [
      " 4\n"
     ]
    },
    {
     "name": "stdout",
     "output_type": "stream",
     "text": [
      "Perimeter formula: Height1+Height2+Breadth\n",
      "Perimeter of Triangle: 10.0\n"
     ]
    }
   ],
   "source": [
    "class Triangle:\n",
    "    def __init__(self):\n",
    "        pass\n",
    "\n",
    "    def triangle(self):\n",
    "        print(\"Height:\", end=\"\")\n",
    "        height = float(input())\n",
    "        print(\"Breadth:\", end=\"\")\n",
    "        breadth = float(input())\n",
    "        \n",
    "        \n",
    "        area = (height * breadth) / 2\n",
    "        print(\"Area formula: (Height*Breadth)/2\")\n",
    "        print(\"Area of Triangle:\", area)\n",
    "        \n",
    "        print(\"Height1:\", end=\"\")\n",
    "        height1 = float(input())\n",
    "        print(\"Height2:\", end=\"\")\n",
    "        height2 = float(input())\n",
    "        print(\"Breadth:\", end=\"\")\n",
    "        breadth = float(input())\n",
    "        \n",
    "        \n",
    "        perimeter = height1 + height2 + breadth\n",
    "        print(\"Perimeter formula: Height1+Height2+Breadth\")\n",
    "        print(\"Perimeter of Triangle:\", perimeter)\n",
    "\n",
    "\n",
    "triangle_obj = Triangle()\n",
    "\n",
    "\n",
    "triangle_obj.triangle()\n"
   ]
  },
  {
   "cell_type": "code",
   "execution_count": null,
   "id": "f9f306ca-ad84-439a-86a7-d701fc835259",
   "metadata": {},
   "outputs": [],
   "source": []
  }
 ],
 "metadata": {
  "kernelspec": {
   "display_name": "Python 3 (ipykernel)",
   "language": "python",
   "name": "python3"
  },
  "language_info": {
   "codemirror_mode": {
    "name": "ipython",
    "version": 3
   },
   "file_extension": ".py",
   "mimetype": "text/x-python",
   "name": "python",
   "nbconvert_exporter": "python",
   "pygments_lexer": "ipython3",
   "version": "3.11.7"
  }
 },
 "nbformat": 4,
 "nbformat_minor": 5
}
