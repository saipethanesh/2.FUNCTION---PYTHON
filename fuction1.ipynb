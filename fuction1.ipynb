{
 "cells": [
  {
   "cell_type": "code",
   "execution_count": 3,
   "id": "a1e264e5-fd99-425d-933d-cb3ec53bbbcb",
   "metadata": {},
   "outputs": [
    {
     "name": "stdout",
     "output_type": "stream",
     "text": [
      "'apple', 'banana', 'orange', 'grape\n"
     ]
    }
   ],
   "source": [
    "def list():\n",
    "        print(\"'apple', 'banana', 'orange', 'grape\")\n",
    "list()\n",
    "        "
   ]
  },
  {
   "cell_type": "code",
   "execution_count": 12,
   "id": "b67b77be-0e50-4545-96eb-97de063d4b1e",
   "metadata": {},
   "outputs": [
    {
     "name": "stdout",
     "output_type": "stream",
     "text": [
      "the number is 40\n"
     ]
    }
   ],
   "source": [
    "def addition(a=10 ,b=30):\n",
    "    addition = a+b\n",
    "    print(\"the number is\",addition)\n",
    "addition()    \n"
   ]
  },
  {
   "cell_type": "code",
   "execution_count": 10,
   "id": "eec1d216-5153-4360-b39d-5de5802baced",
   "metadata": {},
   "outputs": [
    {
     "name": "stdout",
     "output_type": "stream",
     "text": [
      "Sub-fields in AI are:\n",
      "Machine Learning\n",
      "Neural Networks\n",
      "Vision\n",
      "Robotics\n",
      "Speech Processing\n",
      "Natural Language Processing\n"
     ]
    }
   ],
   "source": [
    "def Subfields():\n",
    "            print(\"Sub-fields in AI are:\")\n",
    "            print(\"Machine Learning\")\n",
    "            print(\"Neural Networks\")\n",
    "            print(\"Vision\")\n",
    "            print(\"Robotics\")\n",
    "            print(\"Speech Processing\")\n",
    "            print(\"Natural Language Processing\")\n",
    "\n",
    "Subfields()"
   ]
  },
  {
   "cell_type": "code",
   "execution_count": 13,
   "id": "31597c68-b258-4939-99e5-6320d333f09e",
   "metadata": {},
   "outputs": [
    {
     "name": "stdout",
     "output_type": "stream",
     "text": [
      "Odd\n"
     ]
    }
   ],
   "source": [
    "def isEven(n): \n",
    "    return (n % 2 == 0) \n",
    "n = 101\n",
    "print(\"Even\" if isEven(n) else \"Odd\")   \n",
    "    \n"
   ]
  },
  {
   "cell_type": "code",
   "execution_count": 14,
   "id": "b77e3f91-b49b-4709-986f-6885300abd27",
   "metadata": {},
   "outputs": [
    {
     "name": "stdin",
     "output_type": "stream",
     "text": [
      "Enter a number:  52452\n"
     ]
    },
    {
     "name": "stdout",
     "output_type": "stream",
     "text": [
      "52452 is Even number\n"
     ]
    }
   ],
   "source": [
    "def OddEven():\n",
    "    number = int(input(\"Enter a number: \"))\n",
    "    if number % 2 == 0:\n",
    "        print(number, \"is Even number\")\n",
    "    else:\n",
    "        print(number, \"is Odd number\")\n",
    "\n",
    "\n",
    "OddEven()"
   ]
  },
  {
   "cell_type": "code",
   "execution_count": 15,
   "id": "b1d15ab7-3665-4609-8043-312a4c46f43c",
   "metadata": {},
   "outputs": [
    {
     "name": "stdout",
     "output_type": "stream",
     "text": [
      "Eligible for marriage\n",
      "Eligible for marriage\n"
     ]
    }
   ],
   "source": [
    "def check_eligibility(gender, age):\n",
    "    if gender == \"male\" and age >= 21:\n",
    "        return \"Eligible for marriage\"\n",
    "    elif gender == \"female\" and age >= 18:\n",
    "        return \"Eligible for marriage\"\n",
    "    else:\n",
    "        return \"Not eligible for marriage\"\n",
    "\n",
    "\n",
    "print(check_eligibility(\"male\", 25))   \n",
    "print(check_eligibility(\"female\", 20)) "
   ]
  },
  {
   "cell_type": "code",
   "execution_count": 27,
   "id": "6aaa1c1e-89d1-4236-9626-1c63af3cd22f",
   "metadata": {},
   "outputs": [
    {
     "name": "stdin",
     "output_type": "stream",
     "text": [
      "Enter your age:  20\n"
     ]
    },
    {
     "name": "stdout",
     "output_type": "stream",
     "text": [
      "NOT ELIGIBLE\n"
     ]
    }
   ],
   "source": [
    "def Marriage():\n",
    "    m = int(input(\"Enter your age: \"))  \n",
    "    if m >= 25:\n",
    "        return \"Eligible for marriage\"\n",
    "    elif m <= 18:\n",
    "        return \"Not eligible for marriage\"\n",
    "    else:\n",
    "        return \"NOT ELIGIBLE\"\n",
    "\n",
    "\n",
    "print(Marriage())\n"
   ]
  },
  {
   "cell_type": "code",
   "execution_count": 30,
   "id": "ac3500ef-df90-4225-966a-874d65ad16c1",
   "metadata": {},
   "outputs": [
    {
     "name": "stdin",
     "output_type": "stream",
     "text": [
      "Enter the total marks obtained in 10th: 397\n",
      "Enter the total marks for 10th:  500\n"
     ]
    },
    {
     "name": "stdout",
     "output_type": "stream",
     "text": [
      "Your percentage in 10th is: 79.4\n"
     ]
    }
   ],
   "source": [
    "def  percentage():\n",
    "    p1 = float(input(\"Enter the total marks obtained in 10th:\"))\n",
    "    p2 = float(input(\"Enter the total marks for 10th: \"))\n",
    "    percentage = (p1 /p2) *100\n",
    "    print(\"Your percentage in 10th is:\", percentage) \n",
    "percentage()    "
   ]
  },
  {
   "cell_type": "code",
   "execution_count": 1,
   "id": "773649cd-da04-4725-a0e8-175834da2f8f",
   "metadata": {},
   "outputs": [
    {
     "name": "stdin",
     "output_type": "stream",
     "text": [
      "Subject1:  98\n",
      "Subject2:  87\n",
      "Subject3:  95\n",
      "Subject4:  95\n",
      "Subject5:  93\n"
     ]
    },
    {
     "name": "stdout",
     "output_type": "stream",
     "text": [
      "total is : 468\n",
      "Percentage is: 93.60000000000001\n"
     ]
    }
   ],
   "source": [
    "def total():\n",
    "    s1 = int(input(\"Subject1: \"))  \n",
    "    s2 = int(input(\"Subject2: \"))  \n",
    "    s3 = int(input(\"Subject3: \"))  \n",
    "    s4 = int(input(\"Subject4: \"))  \n",
    "    s5 = int(input(\"Subject5: \"))  \n",
    "    \n",
    "    total = s1 + s2 + s3 + s4 + s5\n",
    "    percentage = (total / 500) * 100\n",
    "    print(\"total is :\",total)\n",
    "    print(\"Percentage is:\", percentage)  \n",
    "\n",
    "# Call the total function\n",
    "total()"
   ]
  },
  {
   "cell_type": "code",
   "execution_count": 9,
   "id": "41a19e17-6622-4693-89e2-ab9cc8fc6608",
   "metadata": {},
   "outputs": [
    {
     "name": "stdin",
     "output_type": "stream",
     "text": [
      "enter triangle side1: 50\n",
      "enter triangle side2: 60\n",
      "enter triangle side3: 80\n"
     ]
    },
    {
     "name": "stdout",
     "output_type": "stream",
     "text": [
      "perimeter of triangle is:  190\n"
     ]
    }
   ],
   "source": [
    "def perimeter():\n",
    "    a = int(input(\"enter triangle side1:\"))\n",
    "    b = int(input(\"enter triangle side2:\"))\n",
    "    c = int(input(\"enter triangle side3:\"))\n",
    "    \n",
    "    perimeter = a + b + c\n",
    "    print(\"perimeter of triangle is: \",perimeter)\n",
    "perimeter()   "
   ]
  },
  {
   "cell_type": "code",
   "execution_count": 23,
   "id": "b7a6789f-4cb0-4635-b642-d6c378e28fb0",
   "metadata": {},
   "outputs": [
    {
     "name": "stdin",
     "output_type": "stream",
     "text": [
      "enter triangle Height:  34\n",
      "enter triangle Breadth:  32\n"
     ]
    },
    {
     "name": "stdout",
     "output_type": "stream",
     "text": [
      "area of triangle is :  544.0\n"
     ]
    }
   ],
   "source": [
    "def area():\n",
    "     Height = int(input(\"enter triangle Height: \"))\n",
    "     Breadth = int(input(\"enter triangle Breadth: \"))\n",
    "\n",
    "     area = (Height * Breadth) / 2\n",
    "     print(\"area of triangle is : \",area )\n",
    "area()    "
   ]
  },
  {
   "cell_type": "code",
   "execution_count": 31,
   "id": "e08b37e7-de70-4ddf-b541-d466d550825c",
   "metadata": {},
   "outputs": [
    {
     "name": "stdin",
     "output_type": "stream",
     "text": [
      "enter triangle Height:  32\n",
      "enter triangle Breadth:  34\n"
     ]
    },
    {
     "name": "stdout",
     "output_type": "stream",
     "text": [
      " area = (Height * Breadth) / 2\n",
      "area of triangle is :  544.0\n"
     ]
    },
    {
     "name": "stdin",
     "output_type": "stream",
     "text": [
      "enter triangle side1: 2\n",
      "enter triangle side2: 4\n",
      "enter triangle side3: 4\n"
     ]
    },
    {
     "name": "stdout",
     "output_type": "stream",
     "text": [
      "perimeter = Height1 + Height2 + Breadth\n",
      "perimeter of triangle is:  10\n"
     ]
    }
   ],
   "source": [
    "def triangle():\n",
    "      Height = int(input(\"enter triangle Height: \"))\n",
    "      Breadth = int(input(\"enter triangle Breadth: \"))\n",
    "\n",
    "      area = (Height * Breadth) / 2\n",
    "      print(\" area = (Height * Breadth) / 2\")\n",
    "      print(\"area of triangle is : \",area )\n",
    "\n",
    "      Height1 = int(input(\"enter triangle side1:\"))\n",
    "      Height2 = int(input(\"enter triangle side2:\"))\n",
    "      Breadth = int(input(\"enter triangle side3:\"))\n",
    "    \n",
    "      perimeter = Height1 + Height2 + Breadth\n",
    "      print(\"perimeter = Height1 + Height2 + Breadth\")\n",
    "      print(\"perimeter of triangle is: \",perimeter)\n",
    "      \n",
    "triangle()"
   ]
  },
  {
   "cell_type": "code",
   "execution_count": null,
   "id": "eae21c4b-d239-419c-8cff-917c623d50a5",
   "metadata": {},
   "outputs": [],
   "source": []
  }
 ],
 "metadata": {
  "kernelspec": {
   "display_name": "Python 3 (ipykernel)",
   "language": "python",
   "name": "python3"
  },
  "language_info": {
   "codemirror_mode": {
    "name": "ipython",
    "version": 3
   },
   "file_extension": ".py",
   "mimetype": "text/x-python",
   "name": "python",
   "nbconvert_exporter": "python",
   "pygments_lexer": "ipython3",
   "version": "3.11.7"
  }
 },
 "nbformat": 4,
 "nbformat_minor": 5
}
